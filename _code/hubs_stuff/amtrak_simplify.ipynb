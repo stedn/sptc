{
 "cells": [
  {
   "cell_type": "markdown",
   "metadata": {},
   "source": [
    "Data\n",
    "\n",
    "stations: https://data-usdot.opendata.arcgis.com/datasets/usdot::amtrak-stations-1/explore?location=41.123365%2C-87.696724%2C4.66\n",
    "\n",
    "routes: https://data-usdot.opendata.arcgis.com/datasets/baa5a6c4d4ae4034850e99aaca38cfbb_0/explore?location=36.537073%2C-96.584950%2C4.75\n",
    "\n",
    "https://www.amtrak.com/train-routes"
   ]
  },
  {
   "cell_type": "code",
   "execution_count": 1,
   "metadata": {},
   "outputs": [],
   "source": [
    "import json\n",
    "import numpy as np"
   ]
  },
  {
   "cell_type": "code",
   "execution_count": 2,
   "metadata": {},
   "outputs": [],
   "source": [
    "with open(\"archive_geojson/amtrak.geojson\", \"r\") as infile:\n",
    "    amtrak = json.load(infile)\n",
    "midpoint_list = []\n",
    "for i in range(len(amtrak['features'])):\n",
    "    rand_dispx = 0.1*(np.random.random()-0.5)\n",
    "    rand_dispy = 0.1*(np.random.random()-0.5)\n",
    "    name = amtrak['features'][i]['properties']['NAME']\n",
    "    url = f\"https://www.amtrak.com/routes/{name.lower().replace(' ','-')}-train.html\"\n",
    "    amtrak['features'][i]['properties']['name'] = f\"[[{url}|{name} Amtrak Route]]\"\n",
    "    amtrak['features'][i]['properties']['_umap_options']= {\n",
    "          \"color\": \"#18567D\", # amtrak logo color, lol\n",
    "          \"weight\": \"5\",\n",
    "          \"opacity\": \"0.9\"\n",
    "        }\n",
    "    if amtrak['features'][i]['geometry']['type']=='LineString':\n",
    "        amtrak['features'][i]['geometry']['coordinates'] = amtrak['features'][i]['geometry']['coordinates'][::50]+[amtrak['features'][i]['geometry']['coordinates'][-1]]\n",
    "        amtrak['features'][i]['geometry']['coordinates'] = [[pt[0]+rand_dispx,pt[1]+rand_dispy] for pt in amtrak['features'][i]['geometry']['coordinates']]\n",
    "    else:\n",
    "        for j in range(len(amtrak['features'][i]['geometry']['coordinates'])):\n",
    "#             if j < len(amtrak['features'][i]['geometry']['coordinates'])-1:\n",
    "#                 midpoint_list.append({'name':  f\"[[{url}|Stop On {name} Amtrak Route]]\", 'coordinates': amtrak['features'][i]['geometry']['coordinates'][j][-1]})\n",
    "#             tst = np.array(amtrak['features'][i]['geometry']['coordinates'][j]).T.tolist()\n",
    "#             amtrak['features'][i]['geometry']['coordinates'][j] = gpd.GeoSeries.from_xy(x=tst[0],y=tst[1]).simplify()\n",
    "            amtrak['features'][i]['geometry']['coordinates'][j] = amtrak['features'][i]['geometry']['coordinates'][j][::50]+[amtrak['features'][i]['geometry']['coordinates'][j][-1]]\n",
    "            amtrak['features'][i]['geometry']['coordinates'][j] = [[pt[0]+rand_dispx,pt[1]+rand_dispy] for pt in amtrak['features'][i]['geometry']['coordinates'][j]]\n",
    "\n",
    "with open(\"amtrak_umap.geojson\", \"w\") as outfile:\n",
    "    json.dump(amtrak, outfile, indent=4)"
   ]
  },
  {
   "cell_type": "code",
   "execution_count": 148,
   "metadata": {},
   "outputs": [],
   "source": [
    "# with open(\"amtrak_stations.geojson\", \"r\") as infile:\n",
    "#     stations = json.load(infile)\n",
    "# amtrak['features'] +=[ \n",
    "#     {\n",
    "#       \"type\": \"Feature\",\n",
    "#       \"properties\": {\n",
    "#         \"_umap_options\": {\n",
    "#           \"iconClass\": \"Ball\",\n",
    "#           \"color\": \"DarkGray\"\n",
    "#         },\n",
    "#         \"description\": f\"{i['properties']['StaType']},{i['properties']['Address1']}\",\n",
    "#         \"name\": i['properties']['StationNam']\n",
    "#       },\n",
    "#       \"geometry\": {\n",
    "#         \"type\": \"Point\",\n",
    "#         \"coordinates\": i['geometry']['coordinates']\n",
    "#       }\n",
    "#     } for i in stations['features'] if i['properties']['StnType']=='TRAIN']"
   ]
  },
  {
   "cell_type": "code",
   "execution_count": 3,
   "metadata": {},
   "outputs": [],
   "source": []
  },
  {
   "cell_type": "code",
   "execution_count": null,
   "metadata": {},
   "outputs": [],
   "source": []
  }
 ],
 "metadata": {
  "kernelspec": {
   "display_name": "Python 3 (ipykernel)",
   "language": "python",
   "name": "python3"
  },
  "language_info": {
   "codemirror_mode": {
    "name": "ipython",
    "version": 3
   },
   "file_extension": ".py",
   "mimetype": "text/x-python",
   "name": "python",
   "nbconvert_exporter": "python",
   "pygments_lexer": "ipython3",
   "version": "3.7.13"
  }
 },
 "nbformat": 4,
 "nbformat_minor": 2
}
