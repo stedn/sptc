{
 "cells": [
  {
   "cell_type": "code",
   "execution_count": 1,
   "metadata": {},
   "outputs": [],
   "source": [
    "import httplib2\n",
    "import os\n",
    "\n",
    "from apiclient import discovery\n",
    "from oauth2client import client\n",
    "from oauth2client import tools\n",
    "from oauth2client.file import Storage\n",
    "\n",
    "from pandas import DataFrame, concat, to_datetime, to_numeric\n",
    "import pandas as pd\n",
    "\n",
    "import json\n",
    "\n",
    "# If modifying these scopes, delete your previously saved credentials\n",
    "# at ~/.credentials/sheets.googleapis.com-python-quickstart.json\n",
    "SCOPES = 'https://www.googleapis.com/auth/spreadsheets'\n",
    "CLIENT_SECRET_FILE = 'gsheets_secret.json'\n",
    "APPLICATION_NAME = 'solarpunktravel backend'\n",
    "\n",
    "spreadsheetId = '1FHoBYKs-kVpmkmyUi1BA5_qmygJUo0UfiAayc6mqgcc'"
   ]
  },
  {
   "cell_type": "code",
   "execution_count": 2,
   "metadata": {},
   "outputs": [],
   "source": [
    "def get_credentials():\n",
    "    \"\"\"Gets valid user credentials from storage.\n",
    "    If nothing has been stored, or if the stored credentials are invalid,\n",
    "    the OAuth2 flow is completed to obtain the new credentials.\n",
    "    Returns:\n",
    "        Credentials, the obtained credential.\n",
    "    \"\"\"\n",
    "    credential_path = 'sheets.googleapis.com-solarpunktravel-backend.json'\n",
    "\n",
    "    store = Storage(credential_path)\n",
    "    credentials = store.get()\n",
    "    if not credentials or credentials.invalid:\n",
    "        flags = tools.argparser.parse_args(args=[])\n",
    "        flow = client.flow_from_clientsecrets(CLIENT_SECRET_FILE, SCOPES)\n",
    "        flow.user_agent = APPLICATION_NAME\n",
    "        credentials = tools.run_flow(flow, store, flags)\n",
    "        print('Storing credentials to ' + credential_path)\n",
    "    return credentials\n",
    "\n",
    "#https://stackoverflow.com/questions/38245714/get-list-of-sheets-and-latest-sheet-in-google-spreadsheet-api-v4-in-python\n",
    "credentials = get_credentials()\n",
    "http = credentials.authorize(httplib2.Http())\n",
    "discoveryUrl = ('https://sheets.googleapis.com/$discovery/rest?'\n",
    "                'version=v4')\n",
    "service = discovery.build('sheets', 'v4', http=http,\n",
    "                          discoveryServiceUrl=discoveryUrl)"
   ]
  },
  {
   "cell_type": "code",
   "execution_count": 3,
   "metadata": {},
   "outputs": [],
   "source": [
    "sheet_metadata = service.spreadsheets().get(spreadsheetId=spreadsheetId).execute()\n",
    "sheets = sheet_metadata.get('sheets', '')\n",
    "sheet_names = [s.get(\"properties\", {}).get(\"title\", \"Sheet1\") for s in sheets]\n",
    "\n",
    "\n",
    "result = service.spreadsheets().values().get(\n",
    "    spreadsheetId=spreadsheetId, range=\"A:J\").execute()\n",
    "raw_data = result.get('values', [])\n",
    "download_data = DataFrame.from_records([r + [''] * (len(raw_data[0])-len(r)) for r in raw_data[1:]],columns=raw_data[0])"
   ]
  },
  {
   "cell_type": "code",
   "execution_count": 4,
   "metadata": {},
   "outputs": [
    {
     "name": "stdout",
     "output_type": "stream",
     "text": [
      "detroit failed\n"
     ]
    },
    {
     "data": {
      "text/plain": [
       "{'spreadsheetId': '1FHoBYKs-kVpmkmyUi1BA5_qmygJUo0UfiAayc6mqgcc',\n",
       " 'updatedRange': 'resources!A1:J3170',\n",
       " 'updatedRows': 3170,\n",
       " 'updatedColumns': 10,\n",
       " 'updatedCells': 31700}"
      ]
     },
     "execution_count": 4,
     "metadata": {},
     "output_type": "execute_result"
    }
   ],
   "source": [
    "###\n",
    "#  preliminary injection of all the batch downloaded data\n",
    "###\n",
    "\n",
    "df = download_data.copy()\n",
    "\n",
    "with open(f\"hub_umap_urls.json\", \"r\") as infile:\n",
    "    city_urls = json.load(infile)\n",
    "    \n",
    "city_list =list(city_urls.keys())\n",
    "for c in city_list:\n",
    "    try:\n",
    "        camp = pd.read_csv(f'hub_gpx/{c}/camp_db.csv')\n",
    "        camp_new = pd.DataFrame()\n",
    "        camp_new[['name','lat','lon','journey']]=camp[['4','1','0','journey']]\n",
    "        camp_new['hub']=c\n",
    "        camp_new['type']='shelter'\n",
    "        camp_new['subtype']='public_camp'\n",
    "\n",
    "        food = pd.read_csv(f'hub_gpx/{c}/food_db.csv')\n",
    "        food_new = pd.DataFrame()\n",
    "        food_new[['name','lat','lon','url']]=food[['name','lat','lon','url']]\n",
    "        food_new['hub']=c\n",
    "        food_new['type']='resource'\n",
    "        food_new['subtype']='food_coop'\n",
    "\n",
    "        bike = pd.read_csv(f'hub_gpx/{c}/bike_db.csv')\n",
    "        bike_new = pd.DataFrame()\n",
    "        bike_new[['name','lat','lon','url']]=bike[['name','lat','lon','url']]\n",
    "        bike_new['hub']=c\n",
    "        bike_new['type']='resource'\n",
    "        bike_new['subtype']='bike_coop'\n",
    "\n",
    "        gear = pd.read_csv(f'hub_gpx/{c}/gear_db.csv')\n",
    "        gear_new = pd.DataFrame()\n",
    "        gear_new[['name','lat','lon','url']]=gear[['name','lat','lon','url']]\n",
    "        gear_new['hub']=c\n",
    "        gear_new['type']='resource'\n",
    "        gear_new['subtype']='used_gear_store'\n",
    "\n",
    "        rout = pd.read_csv(f'hub_gpx/{c}/rout_db.csv')\n",
    "        rout_new = pd.DataFrame()\n",
    "        rout_new[['name','description','image','url','journey','lat','lon']]=rout[['name','description','image','url','journey','lat','lon']]\n",
    "        rout_new['hub']=c\n",
    "        rout_new['type']='route'\n",
    "        rout_new['subtype']='ridewithgps'\n",
    "\n",
    "        to_post = pd.concat([camp_new,food_new,bike_new,gear_new,rout_new]).fillna('')[['hub','type','subtype','name','url','description','lat','lon','image','journey']]\n",
    "        df = pd.concat([df,to_post])\n",
    "    except:\n",
    "        print(f\"{c} failed\")\n",
    "\n",
    "df = df.drop_duplicates()\n",
    "body = {\n",
    "    \"majorDimension\": \"ROWS\",\n",
    "    \"values\": [\n",
    "        df.columns.tolist(),\n",
    "        ] + df.values.tolist(),\n",
    "}\n",
    "service.spreadsheets().values().update(\n",
    "    spreadsheetId=spreadsheetId,\n",
    "    range='A:J',\n",
    "    body=body,\n",
    "    valueInputOption='USER_ENTERED'\n",
    ").execute()"
   ]
  },
  {
   "cell_type": "code",
   "execution_count": null,
   "metadata": {},
   "outputs": [],
   "source": []
  }
 ],
 "metadata": {
  "kernelspec": {
   "display_name": "Python 3 (ipykernel)",
   "language": "python",
   "name": "python3"
  },
  "language_info": {
   "codemirror_mode": {
    "name": "ipython",
    "version": 3
   },
   "file_extension": ".py",
   "mimetype": "text/x-python",
   "name": "python",
   "nbconvert_exporter": "python",
   "pygments_lexer": "ipython3",
   "version": "3.7.13"
  }
 },
 "nbformat": 4,
 "nbformat_minor": 2
}
