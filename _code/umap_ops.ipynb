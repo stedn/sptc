{
 "cells": [
  {
   "cell_type": "code",
   "execution_count": 2,
   "metadata": {},
   "outputs": [],
   "source": [
    "from selenium.webdriver import Firefox\n",
    "from selenium.webdriver.support.ui import Select\n",
    "import time\n",
    "import os\n",
    "import json\n",
    "import glob"
   ]
  },
  {
   "cell_type": "markdown",
   "metadata": {},
   "source": [
    "### Setup browser"
   ]
  },
  {
   "cell_type": "code",
   "execution_count": 6,
   "metadata": {},
   "outputs": [],
   "source": [
    "browser = Firefox()"
   ]
  },
  {
   "cell_type": "code",
   "execution_count": 7,
   "metadata": {},
   "outputs": [],
   "source": [
    "browser.get(\"https://umap.openstreetmap.fr\")"
   ]
  },
  {
   "cell_type": "code",
   "execution_count": 6,
   "metadata": {},
   "outputs": [],
   "source": [
    "## NOW LOG IN to umap using solarpunk travel twitter"
   ]
  },
  {
   "cell_type": "markdown",
   "metadata": {},
   "source": [
    "### create new maps with names and store urls"
   ]
  },
  {
   "cell_type": "code",
   "execution_count": 8,
   "metadata": {},
   "outputs": [],
   "source": [
    "# city_list = [d.split('/')[-1] for d in glob.glob('hub_gpx/*')]\n",
    "# city_dict = {}\n",
    "# for c in city_list:\n",
    "#     browser.get(\"https://umap.openstreetmap.fr/en/map/new\")\n",
    "#     time.sleep(1)\n",
    "#     browser.find_element_by_css_selector(\"[title^='Edit map settings']\").click()\n",
    "#     time.sleep(1)\n",
    "#     browser.find_element_by_css_selector(\"[name^='name']\").clear()\n",
    "#     browser.find_element_by_css_selector(\"[name^='name']\").send_keys(c.replace('_',' ').title())\n",
    "#     time.sleep(2)\n",
    "#     browser.find_element_by_css_selector(\"[title^='Save current edits (Ctrl+S)']\").click()\n",
    "#     time.sleep(5)\n",
    "#     city_dict[c]= browser.current_url\n",
    "#     time.sleep(1)\n",
    "# with open(f\"hub_umap_urls.json\", \"w\") as outfile:\n",
    "#     json.dump(city_dict, outfile, indent=4)"
   ]
  },
  {
   "cell_type": "markdown",
   "metadata": {},
   "source": [
    "### Uploading hub routes geojson"
   ]
  },
  {
   "cell_type": "code",
   "execution_count": 9,
   "metadata": {},
   "outputs": [],
   "source": [
    "with open(f\"hub_umap_urls.json\", \"r\") as infile:\n",
    "    city_dict = json.load(infile)\n",
    "for c in city_dict:\n",
    "    browser.get(city_dict[c])\n",
    "    filename = f\"/home/stedn/projects/sptc/_code/hub_gpx/{c.lower().replace(' ','_')}/umap_routes_simple.geojson\"\n",
    "    if os.path.exists(filename):\n",
    "        try:\n",
    "            browser.find_element_by_css_selector(\"[title^='Enable editing (Ctrl+E)']\").click()\n",
    "        except:\n",
    "            print('little break')\n",
    "        time.sleep(1)\n",
    "        browser.find_element_by_css_selector(\"[title^='Import data (Ctrl+I)']\").click()\n",
    "        time.sleep(1)\n",
    "        browser.find_element_by_css_selector(\"[type^='checkbox']\").click()\n",
    "        # by default will create new layer\n",
    "        select_val = \"\"  \n",
    "        # if succeeds in finding layer already then select it\n",
    "        try:\n",
    "            select_val = browser.find_element_by_xpath(\"// option[contains(text(),'Layer 1')]\").get_attribute('value')\n",
    "        except:\n",
    "            print('creating new layer')\n",
    "        Select(browser.find_element_by_css_selector(\"[name^='datalayer']\")).select_by_value(select_val)\n",
    "        browser.find_element_by_css_selector(\"[type^='file']\").send_keys(filename)\n",
    "        browser.find_element_by_css_selector(\"[value^='Import']\").click()\n",
    "        time.sleep(1)\n",
    "        browser.find_element_by_css_selector(\"[title^='Save this center and zoom']\").click()\n",
    "        time.sleep(1)\n",
    "        browser.find_element_by_css_selector(\"[title^='Save current edits (Ctrl+S)']\").click()\n",
    "        time.sleep(4)"
   ]
  },
  {
   "cell_type": "markdown",
   "metadata": {},
   "source": [
    "### Upload resources"
   ]
  },
  {
   "cell_type": "code",
   "execution_count": 10,
   "metadata": {},
   "outputs": [],
   "source": [
    "with open(f\"hub_umap_urls.json\", \"r\") as infile:\n",
    "    city_dict = json.load(infile)\n",
    "for c in list(city_dict.keys())[15:]:\n",
    "    browser.get(city_dict[c])\n",
    "    filename = f\"/home/stedn/projects/sptc/_code/hub_gpx/{c.lower().replace(' ','_')}/umap_resources.geojson\"\n",
    "    if os.path.exists(filename):\n",
    "        try:\n",
    "            browser.find_element_by_css_selector(\"[title^='Enable editing (Ctrl+E)']\").click()\n",
    "        except:\n",
    "            print('little break')\n",
    "        time.sleep(1)\n",
    "        browser.find_element_by_css_selector(\"[title^='Import data (Ctrl+I)']\").click()\n",
    "        time.sleep(1)\n",
    "        browser.find_element_by_css_selector(\"[type^='checkbox']\").click()\n",
    "        # by default will create new layer\n",
    "        select_val = \"\"  \n",
    "        # if succeeds in finding layer already then select it\n",
    "        try:\n",
    "            select_val = browser.find_element_by_xpath(\"// option[contains(text(),'umap_resources.geojson')]\").get_attribute('value')\n",
    "        except:\n",
    "            print('creating new layer')\n",
    "        Select(browser.find_element_by_css_selector(\"[name^='datalayer']\")).select_by_value(select_val)\n",
    "        browser.find_element_by_css_selector(\"[type^='file']\").send_keys(filename)\n",
    "        browser.find_element_by_css_selector(\"[value^='Import']\").click()\n",
    "        time.sleep(1)\n",
    "        browser.find_element_by_css_selector(\"[title^='Save current edits (Ctrl+S)']\").click()\n",
    "        time.sleep(4)"
   ]
  },
  {
   "cell_type": "markdown",
   "metadata": {},
   "source": [
    "### Just for centering zoom"
   ]
  },
  {
   "cell_type": "code",
   "execution_count": 24,
   "metadata": {},
   "outputs": [
    {
     "name": "stdout",
     "output_type": "stream",
     "text": [
      "little break\n"
     ]
    }
   ],
   "source": [
    "# from geopy.geocoders import GoogleV3\n",
    "# with open(\"maps.key\", 'r') as f:\n",
    "#     maps_key = f.read()\n",
    "# geolocator = GoogleV3(api_key=maps_key)\n",
    "\n",
    "# with open(f\"hub_umap_urls.json\", \"r\") as infile:\n",
    "#     city_urls = json.load(infile)\n",
    "# city_loc = {}\n",
    "# for c in city_urls:\n",
    "#     location = geolocator.geocode(c)\n",
    "#     if location:\n",
    "#         city_loc[c]=location\n",
    "# for c in city_dict:\n",
    "#     browser.get(f\"{city_urls[c]}#9/{city_loc[c][1][0]}/{city_loc[c][1][1]}\")\n",
    "#     time.sleep(1)\n",
    "#     try:\n",
    "#         browser.find_element_by_css_selector(\"[title^='Enable editing (Ctrl+E)']\").click()\n",
    "#     except:\n",
    "#         print('little break')\n",
    "#     time.sleep(1)\n",
    "#     browser.find_element_by_css_selector(\"[title^='Save this center and zoom']\").click()\n",
    "#     time.sleep(1)\n",
    "#     browser.find_element_by_css_selector(\"[title^='Save current edits (Ctrl+S)']\").click()\n",
    "#     time.sleep(4)"
   ]
  },
  {
   "cell_type": "code",
   "execution_count": 71,
   "metadata": {},
   "outputs": [
    {
     "name": "stderr",
     "output_type": "stream",
     "text": [
      "/home/stedn/anaconda3/envs/woac/lib/python3.7/site-packages/ipykernel_launcher.py:13: DeprecationWarning: use driver.switch_to.alert instead\n",
      "  del sys.path[0]\n"
     ]
    },
    {
     "name": "stdout",
     "output_type": "stream",
     "text": [
      "oops memphis\n",
      "oops seattle\n",
      "oops chicago\n",
      "oops toronto\n",
      "oops raleigh\n",
      "oops oklahoma_city\n",
      "oops philadelphia\n",
      "oops washington_dc\n"
     ]
    }
   ],
   "source": [
    "## DELETE ALL\n",
    "# with open(f\"hub_umap_urls.json\", \"r\") as infile:\n",
    "#     city_dict = json.load(infile)\n",
    "# for c in city_dict:\n",
    "#     if c['umap_url']==\"https://umap.openstreetmap.fr/en/map/new/#6/51.000/2.000\":\n",
    "#         continue\n",
    "#     browser.get(c['umap_url'])\n",
    "#     try: \n",
    "#         browser.find_element_by_css_selector(\"[title^='Enable editing (Ctrl+E)']\").click()\n",
    "#         browser.find_element_by_css_selector(\"[title^='Edit map settings']\").click()\n",
    "#         browser.find_element_by_xpath(\"// h5[contains(text(),'Advanced actions')]\").click()\n",
    "#         browser.find_element_by_xpath(\"// a[contains(text(),'Delete')]\").click()\n",
    "#         browser.switch_to_alert().accept()\n",
    "#     except:\n",
    "#         print(f\"oops {c['name']}\")"
   ]
  }
 ],
 "metadata": {
  "kernelspec": {
   "display_name": "Python 3 (ipykernel)",
   "language": "python",
   "name": "python3"
  },
  "language_info": {
   "codemirror_mode": {
    "name": "ipython",
    "version": 3
   },
   "file_extension": ".py",
   "mimetype": "text/x-python",
   "name": "python",
   "nbconvert_exporter": "python",
   "pygments_lexer": "ipython3",
   "version": "3.7.13"
  }
 },
 "nbformat": 4,
 "nbformat_minor": 2
}
