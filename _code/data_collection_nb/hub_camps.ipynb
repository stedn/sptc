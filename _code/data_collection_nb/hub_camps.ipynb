{
 "cells": [
  {
   "cell_type": "code",
   "execution_count": 46,
   "metadata": {},
   "outputs": [],
   "source": [
    "import pandas as pd\n",
    "import numpy as np\n",
    "from geopy import distance\n",
    "import json"
   ]
  },
  {
   "cell_type": "code",
   "execution_count": 4,
   "metadata": {},
   "outputs": [],
   "source": [
    "camps = pd.concat([pd.read_csv(s, encoding = 'unicode_escape', header=None) for s in ['WestCamp.csv','MidwestCamp.csv','SouthCamp.csv','NortheastCamp.csv','WestCamp.csv','CanadaCamp.csv']])"
   ]
  },
  {
   "cell_type": "code",
   "execution_count": 5,
   "metadata": {},
   "outputs": [],
   "source": [
    "cities = pd.read_csv('cities.csv')"
   ]
  },
  {
   "cell_type": "code",
   "execution_count": 29,
   "metadata": {},
   "outputs": [],
   "source": [
    "city_dict = []\n",
    "dist = 75\n",
    "for i, c in cities.iterrows():\n",
    "    loc = (c['lat'],c['lon'])\n",
    "    min_lat = distance.distance(miles=dist).destination(loc, bearing=180)[0]\n",
    "    max_lat = distance.distance(miles=dist).destination(loc, bearing=0)[0]\n",
    "    min_lon = distance.distance(miles=dist).destination(loc, bearing=270)[1]\n",
    "    max_lon = distance.distance(miles=dist).destination(loc, bearing=90)[1]\n",
    "    tst = camps.loc[(camps[0]>min_lon)&(camps[0]<max_lon)&(camps[1]>min_lat)&(camps[1]>max_lon)].reset_index(drop=True)\n",
    "    loc_array = np.array(tst[[1,0]])\n",
    "    meas = np.array([distance.distance(loc,l).miles for l in loc_array])\n",
    "    subset = tst.loc[(meas<dist) & (~tst[5].isin(['MIL',' ']))].reset_index(drop=True)\n",
    "    city_dict.append({'name': c['name'], 'df':subset})"
   ]
  },
  {
   "cell_type": "code",
   "execution_count": 43,
   "metadata": {},
   "outputs": [
    {
     "data": {
      "text/plain": [
       "(0, -88.175, 41.838, 'BLAW/Blackwell Forest Preserve  CP PH:630.933.7248   COMM:Camp Fri Sat nights only - more on holidays SITES:64  AMEN:E DP FT DW SH RS  41.838 -88.175', 'BLAW', 'Blackwell Forest Preserve', 'CP', '630.933.7248 ', ' ', 'Camp Fri Sat nights only - more on holidays', '64', ' ', 'E DP FT DW SH RS ', 'IL', nan, nan, nan)"
      ]
     },
     "execution_count": 43,
     "metadata": {},
     "output_type": "execute_result"
    }
   ],
   "source": [
    "city_dict[2]['df'].to_records()[0]"
   ]
  },
  {
   "cell_type": "code",
   "execution_count": 47,
   "metadata": {},
   "outputs": [],
   "source": [
    "feature_dict = [\n",
    "    {\n",
    "      \"type\": \"Feature\",\n",
    "      \"properties\": {\n",
    "        \"_umap_options\": {\n",
    "          \"iconClass\": \"Drop\",\n",
    "          \"iconUrl\": \"/uploads/pictogram/campsite-24-white.png\",\n",
    "          \"color\": \"DarkGray\"\n",
    "        },\n",
    "        \"description\": \"(search for the campground for more info)\",\n",
    "        \"name\": i[5]\n",
    "      },\n",
    "      \"geometry\": {\n",
    "        \"type\": \"Point\",\n",
    "        \"coordinates\": [\n",
    "          i[1],\n",
    "          i[2]\n",
    "        ]\n",
    "      }\n",
    "    } for i in city_dict[2]['df'].to_records()]\n",
    "\n",
    "with open(\"hub_gpx/chicago/chicago_camps.geojson\", \"w\") as outfile:\n",
    "    json.dump({\"type\": \"FeatureCollection\", \"features\": feature_dict}, outfile, indent=4)"
   ]
  },
  {
   "cell_type": "code",
   "execution_count": null,
   "metadata": {},
   "outputs": [],
   "source": []
  }
 ],
 "metadata": {
  "kernelspec": {
   "display_name": "Python 3",
   "language": "python",
   "name": "python3"
  },
  "language_info": {
   "codemirror_mode": {
    "name": "ipython",
    "version": 3
   },
   "file_extension": ".py",
   "mimetype": "text/x-python",
   "name": "python",
   "nbconvert_exporter": "python",
   "pygments_lexer": "ipython3",
   "version": "3.7.4"
  }
 },
 "nbformat": 4,
 "nbformat_minor": 2
}
