{
 "cells": [
  {
   "cell_type": "code",
   "execution_count": 1,
   "metadata": {},
   "outputs": [],
   "source": [
    "from bs4 import BeautifulSoup\n",
    "import requests\n",
    "from contextlib import closing\n",
    "from selenium.webdriver import Firefox\n",
    "import time\n",
    "from gpx_converter import Converter\n",
    "import random\n",
    "import os\n",
    "import json"
   ]
  },
  {
   "cell_type": "code",
   "execution_count": 11,
   "metadata": {},
   "outputs": [
    {
     "name": "stdout",
     "output_type": "stream",
     "text": [
      "something broke\n",
      "something broke\n",
      "something broke\n",
      "something broke\n"
     ]
    }
   ],
   "source": [
    "start_distance = 30\n",
    "length_min = 15\n",
    "length_max = 100\n",
    "for location in ['Albuquerque', 'Salt Lake City']:\n",
    "    path = 'hub_gpx/'+location.lower().replace(' ','_')+'/'\n",
    "    os.makedirs(path, exist_ok=True)\n",
    "    tmp_route_file = path+'routes.json'\n",
    "    loc_url = location.lower().replace(' ','+')\n",
    "    route_list = []\n",
    "    for offset in [0,20,40,60]:\n",
    "        with closing(Firefox()) as browser:\n",
    "            browser.get(f\"https://ridewithgps.com/find#search/0/search%5Boffset%5D={offset}&search%5Bdedupe%5D=1&search%5Bstart_distance%5D={start_distance}&search%5Bstart_location%5D={loc_url}&search%5Bkeywords%5D=&search%5Blength_min%5D={length_min}&search%5Blength_max%5D={length_max}&search%5Belevation_min%5D=0&search%5Belevation_max%5D=10000&search%5Broute_type%5D%5Bpoint_to_point%5D=1&search%5Bsort_by%5D=\")\n",
    "            time.sleep(5)\n",
    "            page_source = browser.page_source\n",
    "        soup = BeautifulSoup(page_source, 'html.parser')\n",
    "        tst = soup.body.find_all('div',class_='search_result')\n",
    "        for t in tst:\n",
    "            if 'routes' in t.h2.a['href']:\n",
    "                name = t.h2.a.text.strip()\n",
    "                url = f\"https://ridewithgps.com{t.h2.a['href']}\"\n",
    "\n",
    "                img = []\n",
    "                if t.find(class_='imagecells') and t.find(class_='imagecells').img:\n",
    "                    img.append(t.find(class_='imagecells').img['src'])\n",
    "                if t.find(class_='static-map') and t.find(class_='static-map').img:\n",
    "                    img.append('https://ridewithgps.com/'+t.find(class_='static-map').img['src'])\n",
    "                if t.find(class_='photos_viewer') and t.find(class_='photos_viewer').img:\n",
    "                    img.append('https://ridewithgps.com/'+t.find(class_='photos_viewer').img['src'])\n",
    "\n",
    "\n",
    "                desc = []\n",
    "                if t.find('p',class_='route-overview') and t.find('p',class_='route-overview').text:\n",
    "                    desc.append(t.find('p',class_='route-overview').text.strip())\n",
    "                if t.find('p',class_='description_and_byline') and t.find('p',class_='description_and_byline').text:\n",
    "                    desc.append(t.find('p',class_='description_and_byline').text.strip())\n",
    "\n",
    "                gpx_page = requests.get(url+'.gpx?sub_format=track')\n",
    "                if gpx_page.status_code==403:\n",
    "                    print('ruh-roh')\n",
    "                    time.sleep(10)\n",
    "                    continue\n",
    "                gpx_file = path+url.split('/')[-1]+\".gpx\"\n",
    "                with open(gpx_file, \"wb\") as outfile:\n",
    "                    outfile.write(gpx_page.content)\n",
    "                try:\n",
    "                    dic = Converter(input_file=gpx_file).gpx_to_dictionary()\n",
    "\n",
    "                    route_list.append({'url':url,\n",
    "                                       'name': name,\n",
    "                                       'description': desc,\n",
    "                                       'images': img,\n",
    "                                       'coord': [[dic['longitude'][i],dic['latitude'][i]]for i in range(len(dic['latitude']))]})\n",
    "\n",
    "                    with open(tmp_route_file, \"w\") as outfile:\n",
    "                        json.dump(route_list, outfile, indent=4)\n",
    "                except:\n",
    "                    print('something broke')\n",
    "\n",
    "                time.sleep(5+random.random()*30)\n",
    "        time.sleep(5+random.random()*10)\n",
    "    time.sleep(5+random.random()*10)"
   ]
  },
  {
   "cell_type": "code",
   "execution_count": 9,
   "metadata": {},
   "outputs": [
    {
     "data": {
      "text/plain": [
       "'Minneapolis'"
      ]
     },
     "execution_count": 9,
     "metadata": {},
     "output_type": "execute_result"
    }
   ],
   "source": [
    "location"
   ]
  },
  {
   "cell_type": "code",
   "execution_count": null,
   "metadata": {},
   "outputs": [],
   "source": []
  }
 ],
 "metadata": {
  "kernelspec": {
   "display_name": "Python 3 (ipykernel)",
   "language": "python",
   "name": "python3"
  },
  "language_info": {
   "codemirror_mode": {
    "name": "ipython",
    "version": 3
   },
   "file_extension": ".py",
   "mimetype": "text/x-python",
   "name": "python",
   "nbconvert_exporter": "python",
   "pygments_lexer": "ipython3",
   "version": "3.7.13"
  }
 },
 "nbformat": 4,
 "nbformat_minor": 2
}
